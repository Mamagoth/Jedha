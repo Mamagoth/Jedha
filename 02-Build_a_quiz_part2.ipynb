{
 "cells": [
  {
   "cell_type": "markdown",
   "metadata": {},
   "source": [
    "# Build a quiz - Part 2"
   ]
  },
  {
   "cell_type": "markdown",
   "metadata": {},
   "source": [
    "Below is the code we wrote yesterday, that asks three questions to the user and allows up to 3 wrong answers :"
   ]
  },
  {
   "cell_type": "code",
   "execution_count": 1,
   "metadata": {
    "tags": []
   },
   "outputs": [
    {
     "name": "stdout",
     "output_type": "stream",
     "text": [
      "Welcome to our quizz!\n",
      "You have 3 lives.\n",
      "\n",
      "Question 1:\n",
      "Your answer : 3\n",
      "Sorry, you have 2 chances left\n",
      "Your answer : 2\n",
      "Question 2:\n",
      "Your answer : 1976\n",
      "Question 3:\n",
      "Your answer : steve jobs\n",
      "Sorry, you have 1 chances left\n",
      "Your answer : antoine krajnc\n",
      "Sorry, you have 0 chances left\n",
      "Oh no, you lost the quiz...\n"
     ]
    }
   ],
   "source": []
  },
  {
   "cell_type": "markdown",
   "metadata": {},
   "source": [
    "Let's refactor our quiz now that we know how to be dry.\n",
    "\n",
    "SPECs: \n",
    "\n",
    "* Your code should be DRY \n",
    "* You should use functions "
   ]
  },
  {
   "cell_type": "code",
   "execution_count": 3,
   "metadata": {
    "tags": []
   },
   "outputs": [
    {
     "name": "stdout",
     "output_type": "stream",
     "text": [
      "Congrats 2 is the right answer\n",
      "Sorry, you have 2 chances left\n",
      "Congrats 1976 is the right answer\n",
      "Congrats elon musk is the right answer\n",
      "Well done, you have win!\n"
     ]
    }
   ],
   "source": []
  },
  {
   "cell_type": "markdown",
   "metadata": {},
   "source": [
    "The solution above is considered more readable for the following reasons :\n",
    "* the instructions that were repeated before are now encapsulated in a function\n",
    "* the questions and answers are stored in one single list\n",
    "* we use a `for` loop to execute the function for each question "
   ]
  },
  {
   "cell_type": "code",
   "execution_count": 5,
   "metadata": {},
   "outputs": [
    {
     "name": "stdout",
     "output_type": "stream",
     "text": [
      "You have 3 left live\n",
      "Question 1 (type 1) - What is the last name of the actual French president? \n",
      "Question 2 (type 2) - What is the first name of the actual Swiss president? \n",
      "Question 3 (type 3) - From where is the best dark chocolate (French or Swiss)? \n",
      "\n"
     ]
    },
    {
     "name": "stdin",
     "output_type": "stream",
     "text": [
      "Chose a question or quit the game with 0:  2\n"
     ]
    },
    {
     "name": "stdout",
     "output_type": "stream",
     "text": [
      "\n",
      "can you answer to this question below?\n",
      "Question 2 (type 2) - What is the first name of the actual Swiss president? \n"
     ]
    },
    {
     "name": "stdin",
     "output_type": "stream",
     "text": [
      "Your answer is:  Guy\n"
     ]
    },
    {
     "name": "stdout",
     "output_type": "stream",
     "text": [
      "Congratulation, your answer is correct!\n",
      "You have 3 left live\n",
      "Question 1 (type 1) - What is the last name of the actual French president? \n",
      "Question 3 (type 3) - From where is the best dark chocolate (French or Swiss)? \n",
      "\n"
     ]
    },
    {
     "name": "stdin",
     "output_type": "stream",
     "text": [
      "Chose a question or quit the game with 0:  1\n"
     ]
    },
    {
     "name": "stdout",
     "output_type": "stream",
     "text": [
      "\n",
      "can you answer to this question below?\n",
      "Question 1 (type 1) - What is the last name of the actual French president? \n"
     ]
    },
    {
     "name": "stdin",
     "output_type": "stream",
     "text": [
      "Your answer is:  hhhhj\n"
     ]
    },
    {
     "name": "stdout",
     "output_type": "stream",
     "text": [
      "Oh shit, your answer is bad!\n",
      "You have 2 left live\n",
      "Question 1 (type 1) - What is the last name of the actual French president? \n",
      "Question 3 (type 3) - From where is the best dark chocolate (French or Swiss)? \n",
      "\n"
     ]
    },
    {
     "name": "stdin",
     "output_type": "stream",
     "text": [
      "Chose a question or quit the game with 0:  1\n"
     ]
    },
    {
     "name": "stdout",
     "output_type": "stream",
     "text": [
      "\n",
      "can you answer to this question below?\n",
      "Question 1 (type 1) - What is the last name of the actual French president? \n"
     ]
    },
    {
     "name": "stdin",
     "output_type": "stream",
     "text": [
      "Your answer is:  FFF\n"
     ]
    },
    {
     "name": "stdout",
     "output_type": "stream",
     "text": [
      "Oh shit, your answer is bad!\n",
      "You have 1 left live\n",
      "Question 1 (type 1) - What is the last name of the actual French president? \n",
      "Question 3 (type 3) - From where is the best dark chocolate (French or Swiss)? \n",
      "\n"
     ]
    },
    {
     "name": "stdin",
     "output_type": "stream",
     "text": [
      "Chose a question or quit the game with 0:  1\n"
     ]
    },
    {
     "name": "stdout",
     "output_type": "stream",
     "text": [
      "\n",
      "can you answer to this question below?\n",
      "Question 1 (type 1) - What is the last name of the actual French president? \n"
     ]
    },
    {
     "name": "stdin",
     "output_type": "stream",
     "text": [
      "Your answer is:  Macron\n"
     ]
    },
    {
     "name": "stdout",
     "output_type": "stream",
     "text": [
      "Congratulation, your answer is correct!\n",
      "You have 1 left live\n",
      "Question 3 (type 3) - From where is the best dark chocolate (French or Swiss)? \n",
      "\n"
     ]
    },
    {
     "name": "stdin",
     "output_type": "stream",
     "text": [
      "Chose a question or quit the game with 0:  3\n"
     ]
    },
    {
     "name": "stdout",
     "output_type": "stream",
     "text": [
      "\n",
      "can you answer to this question below?\n",
      "Question 3 (type 3) - From where is the best dark chocolate (French or Swiss)? \n"
     ]
    },
    {
     "name": "stdin",
     "output_type": "stream",
     "text": [
      "Your answer is:  French\n"
     ]
    },
    {
     "name": "stdout",
     "output_type": "stream",
     "text": [
      "Congratulation, your answer is correct!\n",
      "You have 1 left live\n",
      "Well done for passing the quiz!\n"
     ]
    }
   ],
   "source": [
    "# Question and response\n",
    "qr = [\n",
    "    [1, \"Question 1 (type 1) - What is the last name of the actual French president? \", \"Macron\", 0],\n",
    "    [2, \"Question 2 (type 2) - What is the first name of the actual Swiss president? \", \"Guy\", 0],\n",
    "    [3, \"Question 3 (type 3) - From where is the best dark chocolate (French or Swiss)? \", \"French\", 0]\n",
    "]\n",
    "live = 3\n",
    "\n",
    "# Functions\n",
    "def left_live(my_live):\n",
    "    print(\"You have {} left live\".format(my_live))\n",
    "    if my_live <= 0:\n",
    "        print(\"You are failed, the game is over\")\n",
    "        return 1\n",
    "    else :\n",
    "        return 0\n",
    "\n",
    "def congrat(my_question_list):\n",
    "    if (my_question_list[0][3] == 1) and (my_question_list[1][3]) == 1 and (my_question_list[2][3] == 1):\n",
    "        print(\"Well done for passing the quiz!\")\n",
    "        return 1\n",
    "    else :\n",
    "        return 0\n",
    "\n",
    "def question(my_question_list):\n",
    "    for i in my_question_list:\n",
    "        if i[3] == 0:\n",
    "            print(i[1])\n",
    "    print(\"\")\n",
    "    my_choice = int(input(\"Chose a question or quit the game with 0: \"))\n",
    "    print(\"\")\n",
    "    return my_choice\n",
    "            \n",
    "\n",
    "def responce(my_question_list, my_choice, my_live):\n",
    "    for i in my_question_list:\n",
    "        if my_choice == i[0]:\n",
    "            print(\"can you answer to this question below?\")\n",
    "            print(i[1])\n",
    "            my_answer = input(\"Your answer is: \")\n",
    "            if my_answer == i[2]:\n",
    "                print(\"Congratulation, your answer is correct!\")\n",
    "                i[3] = 1\n",
    "                return my_live\n",
    "            else:\n",
    "                print(\"Oh shit, your answer is bad!\")\n",
    "                my_live = my_live - 1\n",
    "                return my_live\n",
    "\n",
    "# Main program\n",
    "while True:\n",
    "    \n",
    "    if left_live(live) == 1:\n",
    "        break\n",
    "\n",
    "    if congrat(qr) == 1:\n",
    "        break\n",
    "    \n",
    "    choice = question(qr)\n",
    "    \n",
    "    # Main block\n",
    "    if choice == 0:\n",
    "        print(\"Bye\")\n",
    "        break \n",
    "    elif choice > 0 and choice < 4:\n",
    "        live = responce(qr,choice,live)\n",
    "    else: \n",
    "        print(\"Your choice {} is bullshit, start again\".format(choice))\n",
    "        print(\"\")\n",
    "        \n",
    "\n"
   ]
  }
 ],
 "metadata": {
  "kernelspec": {
   "display_name": "Python 3",
   "language": "python",
   "name": "python3"
  },
  "language_info": {
   "codemirror_mode": {
    "name": "ipython",
    "version": 3
   },
   "file_extension": ".py",
   "mimetype": "text/x-python",
   "name": "python",
   "nbconvert_exporter": "python",
   "pygments_lexer": "ipython3",
   "version": "3.8.6"
  }
 },
 "nbformat": 4,
 "nbformat_minor": 4
}
